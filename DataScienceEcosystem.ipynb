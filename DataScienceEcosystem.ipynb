{
 "cells": [
  {
   "cell_type": "markdown",
   "id": "4568b9fe-14c7-4de4-a6e0-c9f0920433ea",
   "metadata": {},
   "source": [
    "# Data Science Tools and Ecosystem"
   ]
  },
  {
   "cell_type": "markdown",
   "id": "acdca32f-3cc2-4315-b2ca-543b1c3e4a02",
   "metadata": {},
   "source": [
    "In this notebook, Data Science Tools and Ecosystem are summarized."
   ]
  },
  {
   "cell_type": "markdown",
   "id": "2ffb135d-91e1-4107-87c8-882c891816bd",
   "metadata": {},
   "source": [
    "Objectives:\n",
    "- List popular languages for Data Science\n",
    "- List popular libraries used by Data Scientists\n",
    "- List some Data Science Tools\n",
    "- Provide some exemples in Python"
   ]
  },
  {
   "cell_type": "markdown",
   "id": "d6ffe121-66de-48b6-9992-98bfda7f341c",
   "metadata": {},
   "source": [
    "Some of the popular languages that Data Scientists use are:\n",
    "1. Python\n",
    "2. R\n",
    "3. Scala"
   ]
  },
  {
   "cell_type": "markdown",
   "id": "aebc5404-7d03-4d82-ae7d-abc52a491951",
   "metadata": {},
   "source": [
    "Some of the commonly used libraries used by Data Scientists include:\n",
    "1. Pandas\n",
    "2. Scikit-learn\n",
    "3. Keras\n",
    "4. Tensorflow\n"
   ]
  },
  {
   "cell_type": "markdown",
   "id": "2dd24738-6821-41d9-a4e3-025cff3d0238",
   "metadata": {},
   "source": [
    "| Data Science Tools |\n",
    "-----------------\n",
    "| Jupyterlab |\n",
    "| Rstudio |\n",
    "| IBM Watson |\n"
   ]
  },
  {
   "cell_type": "markdown",
   "id": "61febc43-b093-41dc-a8c3-ba57fa46bddd",
   "metadata": {},
   "source": [
    "### Below are a few examples of evaluating arithmetic expressions in Python"
   ]
  },
  {
   "cell_type": "code",
   "execution_count": 3,
   "id": "4b0a3be5-38b8-4875-8735-a08a32bc60c3",
   "metadata": {
    "tags": []
   },
   "outputs": [
    {
     "data": {
      "text/plain": [
       "17"
      ]
     },
     "execution_count": 3,
     "metadata": {},
     "output_type": "execute_result"
    }
   ],
   "source": [
    "# This a simple arithmetic expression to mutiply then add integers\n",
    "(3*4)+5"
   ]
  },
  {
   "cell_type": "code",
   "execution_count": 4,
   "id": "b1e7ce70-ebee-4b37-9399-be0131e67e3d",
   "metadata": {
    "tags": []
   },
   "outputs": [
    {
     "data": {
      "text/plain": [
       "3.3333333333333335"
      ]
     },
     "execution_count": 4,
     "metadata": {},
     "output_type": "execute_result"
    }
   ],
   "source": [
    "# This will convert 200 minutes to hours by diving by 60\n",
    "200/60"
   ]
  },
  {
   "cell_type": "markdown",
   "id": "45c0a44c-c66e-496f-8e07-98c0412a5ad6",
   "metadata": {},
   "source": [
    "## Author\n",
    "Mahmoud Louartiti"
   ]
  },
  {
   "cell_type": "code",
   "execution_count": null,
   "id": "6e1b26db-e80f-49f9-a08b-0ce855088998",
   "metadata": {},
   "outputs": [],
   "source": []
  }
 ],
 "metadata": {
  "kernelspec": {
   "display_name": "Python",
   "language": "python",
   "name": "conda-env-python-py"
  },
  "language_info": {
   "codemirror_mode": {
    "name": "ipython",
    "version": 3
   },
   "file_extension": ".py",
   "mimetype": "text/x-python",
   "name": "python",
   "nbconvert_exporter": "python",
   "pygments_lexer": "ipython3",
   "version": "3.7.12"
  }
 },
 "nbformat": 4,
 "nbformat_minor": 5
}
